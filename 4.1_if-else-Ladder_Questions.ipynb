{
 "cells": [
  {
   "cell_type": "raw",
   "metadata": {},
   "source": [
    "Read Five marks tamil,english,maths,science and social and if all marks are greater than 35 , print pass else print fail"
   ]
  },
  {
   "cell_type": "code",
   "execution_count": 6,
   "metadata": {},
   "outputs": [
    {
     "name": "stdout",
     "output_type": "stream",
     "text": [
      "Pass All marks are greater than 35\n"
     ]
    }
   ],
   "source": [
    "tel = 50\n",
    "eng = 60\n",
    "maths = 40\n",
    "sci = 36\n",
    "social = 45\n",
    "if tel > 35:\n",
    "    if eng > 35:\n",
    "        if maths > 35:\n",
    "            if sci > 35:\n",
    "                if social > 35:\n",
    "                    print(\"Pass\",\"All marks are greater than 35\")\n",
    "                else:\n",
    "                    print(\"Fail\",\"Social marks are less than 35\")\n",
    "            else:\n",
    "                print(\"Fail\",\"sci marks are less than 35\")\n",
    "        else:\n",
    "            print(\"Fail\",\"maths marks are less than 35\")\n",
    "    else:\n",
    "        print(\"Fail\",\"eng marks are less than 35\")\n",
    "else:\n",
    "    print(\"Fail\",\"tel marks are less than 35\")\n",
    "         "
   ]
  },
  {
   "cell_type": "code",
   "execution_count": null,
   "metadata": {},
   "outputs": [],
   "source": []
  }
 ],
 "metadata": {
  "kernelspec": {
   "display_name": "Python 3 (ipykernel)",
   "language": "python",
   "name": "python3"
  },
  "language_info": {
   "codemirror_mode": {
    "name": "ipython",
    "version": 3
   },
   "file_extension": ".py",
   "mimetype": "text/x-python",
   "name": "python",
   "nbconvert_exporter": "python",
   "pygments_lexer": "ipython3",
   "version": "3.13.5"
  }
 },
 "nbformat": 4,
 "nbformat_minor": 4
}
