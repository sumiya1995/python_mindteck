{
 "cells": [
  {
   "cell_type": "raw",
   "metadata": {},
   "source": [
    "\n",
    "print -\n",
    "\n",
    "#Your's Faithfully\n",
    "#Expected o/p - Your's Faithfully"
   ]
  },
  {
   "cell_type": "code",
   "execution_count": 2,
   "metadata": {},
   "outputs": [
    {
     "name": "stdout",
     "output_type": "stream",
     "text": [
      "Your's Faithfully\n"
     ]
    }
   ],
   "source": [
    "print('Your\\'s Faithfully')"
   ]
  },
  {
   "cell_type": "raw",
   "metadata": {},
   "source": [
    "print \n",
    "\n",
    "Steve Jobs said \"Innovation distinguishes between a leader and a follower.\"\n",
    "Expected o/p - Steve Jobs said \"Innovation distinguishes between a leader and a follower.\""
   ]
  },
  {
   "cell_type": "code",
   "execution_count": 5,
   "metadata": {},
   "outputs": [
    {
     "name": "stdout",
     "output_type": "stream",
     "text": [
      "Steve Jobs said \"Innovation distinguishes between a leader and a follower.\"\n"
     ]
    }
   ],
   "source": [
    "print('Steve Jobs said \"Innovation distinguishes between a leader and a follower.\"')"
   ]
  },
  {
   "cell_type": "code",
   "execution_count": null,
   "metadata": {},
   "outputs": [],
   "source": []
  }
 ],
 "metadata": {
  "kernelspec": {
   "display_name": "Python 3 (ipykernel)",
   "language": "python",
   "name": "python3"
  },
  "language_info": {
   "codemirror_mode": {
    "name": "ipython",
    "version": 3
   },
   "file_extension": ".py",
   "mimetype": "text/x-python",
   "name": "python",
   "nbconvert_exporter": "python",
   "pygments_lexer": "ipython3",
   "version": "3.13.5"
  }
 },
 "nbformat": 4,
 "nbformat_minor": 4
}
