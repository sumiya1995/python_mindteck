{
 "cells": [
  {
   "cell_type": "markdown",
   "metadata": {},
   "source": [
    "# Nested Tuple Simple Questions"
   ]
  },
  {
   "cell_type": "code",
   "execution_count": 3,
   "metadata": {},
   "outputs": [
    {
     "name": "stdout",
     "output_type": "stream",
     "text": [
      "('Boss', [8, 4, 6], (1, 2, 3))\n"
     ]
    }
   ],
   "source": [
    "'''1. Write a Python program to create a simple nested tuple.\n",
    "    Data:\n",
    "        x = (\"Boss\", [8, 4, 6], (1, 2, 3)) \n",
    "    Expected Output:\n",
    "        ('Boss', [8, 4, 6], (1, 2, 3))'''\n",
    "\n",
    "x = (\"Boss\", [8,4,6], (1,2,3))\n",
    "print(x)        "
   ]
  },
  {
   "cell_type": "code",
   "execution_count": 9,
   "metadata": {},
   "outputs": [
    {
     "name": "stdout",
     "output_type": "stream",
     "text": [
      "{'w': 2, 'r': 3}\n"
     ]
    }
   ],
   "source": [
    "'''2. Write a Python program to convert a nested tuple into a dictionary.\n",
    "    Data:\n",
    "        x = ((2, \"w\"),(3, \"r\"))\n",
    "    Expected Output:\n",
    "        {'w': 2, 'r': 3} '''\n",
    "\n",
    "x = ((2, \"w\"),(3,\"r\"))\n",
    "d = {value: key for key, value in x}\n",
    "print(d)\n",
    "       "
   ]
  },
  {
   "cell_type": "code",
   "execution_count": 10,
   "metadata": {},
   "outputs": [
    {
     "name": "stdout",
     "output_type": "stream",
     "text": [
      "(1, [9, 8, 77], 'boss')\n"
     ]
    }
   ],
   "source": [
    "'''3. Write a Python program to update the element in a given nested tuple.\n",
    "    Data:\n",
    "        x = ((1), [9, 8, 7], (\"boss\"))\n",
    "    Expected Output:\n",
    "        (1, [9, 8, 77], 'boss')'''\n",
    "x = ((1), [9,8,7], (\"boss\"))\n",
    "x[1][2] = 77\n",
    "print(x)      "
   ]
  },
  {
   "cell_type": "code",
   "execution_count": 12,
   "metadata": {},
   "outputs": [
    {
     "name": "stdout",
     "output_type": "stream",
     "text": [
      "('a', ('b', 'c'), 'd', ('e', 'f'))\n",
      "4\n"
     ]
    }
   ],
   "source": [
    "'''4. Write a Python program to find the length of the given nested tuple.\n",
    "    Data:\n",
    "        L = (\"a\",(\"b\",\"c\"),\"d\",(\"e\",\"f\"))\n",
    "    Expected Output:\n",
    "        ('a', ('b', 'c'), 'd', ('e', 'f'))\n",
    "        4 '''\n",
    "L = (\"a\",(\"b\",\"c\"),\"d\",(\"e\",\"f\"))\n",
    "print(L)\n",
    "print(len(L))\n"
   ]
  },
  {
   "cell_type": "code",
   "execution_count": 15,
   "metadata": {},
   "outputs": [
    {
     "name": "stdout",
     "output_type": "stream",
     "text": [
      "('A', (1, 2), 'B', ('a', 'b'))\n",
      "4\n"
     ]
    }
   ],
   "source": [
    "'''5. Write a Python program to create a nested tuple by using the given tuples.\n",
    "    Data:\n",
    "        t1 = (1,2)\n",
    "        t2 = ('a','b')\n",
    "        t3 = ('A','B')\n",
    "    Expected Output:\n",
    "        Create/print nested tuple\n",
    "        ('A', (1, 2), 'B', ('a', 'b'))\n",
    "        Length of nested tuple is:\n",
    "        4 '''\n",
    "t1 = (1,2)\n",
    "t2 = ('a','b')\n",
    "t3 = ('A','B')\n",
    "result = (t3[0], t1, t3[1], t2)\n",
    "print(result)\n",
    "print(len(result))"
   ]
  },
  {
   "cell_type": "code",
   "execution_count": 14,
   "metadata": {},
   "outputs": [
    {
     "name": "stdout",
     "output_type": "stream",
     "text": [
      "('a', 'a')\n"
     ]
    }
   ],
   "source": [
    "''' 6. Write a Python script that illustrates the use of multiple square-bracket indexing to access and display an item in a \n",
    "   nested tuple.\n",
    "    Data:\n",
    "        t1 = (\"a\",)\n",
    "        t2 = (t1*2)\n",
    "    Expected Output:\n",
    "        ('a', 'a')\n",
    "        Contains a '''\n",
    "        \n",
    "#didnt understand the question      \n",
    "t1 = (\"a\",)\n",
    "t2 = (t1*2)\n",
    "print(t2)\n",
    "        "
   ]
  },
  {
   "cell_type": "code",
   "execution_count": 21,
   "metadata": {},
   "outputs": [
    {
     "name": "stdout",
     "output_type": "stream",
     "text": [
      "9\n"
     ]
    }
   ],
   "source": [
    "'''7. Write a python program to find the length of the given nested tuple including the elements inside the tuple of tuples.\n",
    "    Data:\n",
    "        t1 =(1,(4,(7,8,9),6),3)\n",
    "    Expected Output:\n",
    "        9'''\n",
    "t1 = (1, (4, (7,8,9), 6), 3)\n",
    "def count_all_items(t):\n",
    "    count = 0\n",
    "    for item in t:\n",
    "        count += 1\n",
    "        if isinstance(item, tuple):\n",
    "            count += count_all_items(item) \n",
    "    return count\n",
    "print(count_all_items(t1))"
   ]
  },
  {
   "cell_type": "code",
   "execution_count": 23,
   "metadata": {},
   "outputs": [
    {
     "name": "stdout",
     "output_type": "stream",
     "text": [
      "((4, 'Sara'), (3, 'Shar'), (6, 'Sid'))\n",
      "[{'key': 4, 'value': 'Sara'}, {'key': 3, 'value': 'Shar'}, {'key': 6, 'value': 'Sid'}]\n"
     ]
    }
   ],
   "source": [
    "'''8. Write a Python program to convert a nested tuple into a dictionary.\n",
    "    Data:\n",
    "        t = ((4, 'Sara'), (3, 'Shar'), (6, 'Sid'))\n",
    "    Expected Output:\n",
    "        The original tuple : ((4, 'Sara'), (3, 'Shar'), (6, 'Sid'))\n",
    "        The converted dictionary : [{'key': 4, 'value': 'Sara'}, {'key': 3, 'value': 'Shar'}, {'key': 6, 'value': 'Sid'}]'''\n",
    "\n",
    "t = ((4, 'Sara'), (3, 'Shar'), (6, 'Sid'))\n",
    "result = [{\"key\":k, \"value\":v} for k, v in t]\n",
    "print(t)\n",
    "print(result)       "
   ]
  },
  {
   "cell_type": "code",
   "execution_count": 25,
   "metadata": {},
   "outputs": [
    {
     "name": "stdout",
     "output_type": "stream",
     "text": [
      "[('Sara', 1), ('Shar', 2), ('Sid', 3), ('Shwe', 4)]\n",
      "[['Sara', 'Shar', 'Sid', 'Shwe'], [1, 2, 3, 4]]\n"
     ]
    }
   ],
   "source": [
    "'''9. Write a Python program to unzip a list of nested tuples into individual lists.\n",
    "    Data:\n",
    "        l = [('Sara', 1), ('Shar', 2), ('Sid', 3), ('Shwe', 4)]\n",
    "    Expected Output:\n",
    "        Original list is : [('Sara', 1), ('Shar', 2), ('Sid', 3), ('Shwe', 4)]\n",
    "        Modified list is : [['Sara', 'Shar', 'Sid', 'Shwe'], [1, 2, 3, 4]]'''\n",
    "l = [('Sara', 1), ('Shar', 2), ('Sid', 3), ('Shwe', 4)]\n",
    "result = [[l[0][0],l[1][0],l[2][0],l[3][0]],[l[0][1],l[1][1],l[2][1],l[3][1]]]\n",
    "print(l)\n",
    "print(result)       "
   ]
  },
  {
   "cell_type": "code",
   "execution_count": 31,
   "metadata": {},
   "outputs": [
    {
     "name": "stdout",
     "output_type": "stream",
     "text": [
      "[(10, 20, 100), (40, 50, 100), (70, 80, 100)]\n"
     ]
    }
   ],
   "source": [
    "'''10. Write a Python program to replace the last value of each tuples in a nested tuple. \n",
    "    Data:\n",
    "        ((10, 20, 40), (40, 50, 60), (70, 80, 90))\n",
    "    Expected Output:\n",
    "        [(10, 20, 100), (40, 50, 100), (70, 80, 100)]'''\n",
    "d = ((10, 20, 40), (40, 50, 60), (70, 80, 90))\n",
    "modified = [t[:-1] + (100, ) for t in d]\n",
    "print(modified)\n",
    "        \n",
    "        \n",
    "        \n",
    "        "
   ]
  },
  {
   "cell_type": "code",
   "execution_count": null,
   "metadata": {},
   "outputs": [],
   "source": []
  }
 ],
 "metadata": {
  "kernelspec": {
   "display_name": "Python [conda env:base] *",
   "language": "python",
   "name": "conda-base-py"
  },
  "language_info": {
   "codemirror_mode": {
    "name": "ipython",
    "version": 3
   },
   "file_extension": ".py",
   "mimetype": "text/x-python",
   "name": "python",
   "nbconvert_exporter": "python",
   "pygments_lexer": "ipython3",
   "version": "3.13.5"
  }
 },
 "nbformat": 4,
 "nbformat_minor": 4
}
