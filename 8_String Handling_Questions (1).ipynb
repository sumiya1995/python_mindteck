{
 "cells": [
  {
   "cell_type": "raw",
   "metadata": {},
   "source": [
    "Python Program to Replace all Occurrences of ‘a’ with $ in a String\n",
    "\n",
    "Given String = \"apple\""
   ]
  },
  {
   "cell_type": "code",
   "execution_count": 1,
   "metadata": {},
   "outputs": [
    {
     "name": "stdout",
     "output_type": "stream",
     "text": [
      "$pple\n"
     ]
    }
   ],
   "source": [
    "a = \"apple\"\n",
    "b = a.replace(\"a\",\"$\")\n",
    "print(b)"
   ]
  },
  {
   "cell_type": "raw",
   "metadata": {},
   "source": [
    "2.Python Program to Remove the 5th Index Character from a String"
   ]
  },
  {
   "cell_type": "code",
   "execution_count": 14,
   "metadata": {},
   "outputs": [
    {
     "name": "stdout",
     "output_type": "stream",
     "text": [
      "Singaore\n"
     ]
    }
   ],
   "source": [
    "s = \"Singapore\"\n",
    "if len(s)>5:\n",
    "    s = s[:5] + s[6:]\n",
    "    print(s)"
   ]
  },
  {
   "cell_type": "raw",
   "metadata": {},
   "source": [
    "3.Python Program to Form a New String where the First Character and the Last Character have been Exchanged"
   ]
  },
  {
   "cell_type": "code",
   "execution_count": 21,
   "metadata": {},
   "outputs": [
    {
     "name": "stdout",
     "output_type": "stream",
     "text": [
      "oellh\n"
     ]
    }
   ],
   "source": [
    "s = \"hello\"\n",
    "if len(s) < 2:\n",
    "    print(s)\n",
    "else:\n",
    "    s = s[-1] + s[1:-1] + s[0]\n",
    "    print(s)"
   ]
  },
  {
   "cell_type": "raw",
   "metadata": {},
   "source": [
    "4.Python Program to Count the Number of Vowels in a String"
   ]
  },
  {
   "cell_type": "code",
   "execution_count": 25,
   "metadata": {},
   "outputs": [
    {
     "name": "stdout",
     "output_type": "stream",
     "text": [
      "6\n"
     ]
    }
   ],
   "source": [
    "s = \"IloveIndia\"\n",
    "vowels_count = 0\n",
    "vowels = 'aeiouAEIOU'\n",
    "for char in s:\n",
    "    if char in vowels:\n",
    "        vowels_count += 1\n",
    "print(vowels_count)"
   ]
  },
  {
   "cell_type": "raw",
   "metadata": {},
   "source": [
    "5.Python Program to Take in a String and Replace Every Blank Space with Hyphen"
   ]
  },
  {
   "cell_type": "code",
   "execution_count": 26,
   "metadata": {},
   "outputs": [
    {
     "name": "stdout",
     "output_type": "stream",
     "text": [
      "iHyphenamHyphenaHyphenengineer\n"
     ]
    }
   ],
   "source": [
    "s = \"i am a engineer\"\n",
    "result = s.replace(\" \",\"Hyphen\")\n",
    "print(result)"
   ]
  },
  {
   "cell_type": "raw",
   "metadata": {},
   "source": [
    "6.Python Program to Calculate the Length of a String Without Using a Library Function"
   ]
  },
  {
   "cell_type": "code",
   "execution_count": 28,
   "metadata": {},
   "outputs": [
    {
     "name": "stdout",
     "output_type": "stream",
     "text": [
      "6\n"
     ]
    }
   ],
   "source": [
    "s = \"samantha\"\n",
    "count = 0\n",
    "for char in s:\n",
    "    count +=1\n",
    "print(count)"
   ]
  },
  {
   "cell_type": "raw",
   "metadata": {},
   "source": [
    "7.Python Program to Remove the Characters of Odd Index Values in a String"
   ]
  },
  {
   "cell_type": "code",
   "execution_count": 33,
   "metadata": {},
   "outputs": [
    {
     "name": "stdout",
     "output_type": "stream",
     "text": [
      "pto rgamn safn\n"
     ]
    }
   ],
   "source": [
    "s = \"python programming is a fun\"\n",
    "result = \"\"\n",
    "for index in range(len(s)):\n",
    "    if index % 2 ==0:\n",
    "        result += s[index]\n",
    "print(result)"
   ]
  },
  {
   "cell_type": "raw",
   "metadata": {},
   "source": [
    "8.Python Program to Calculate the Number of Words and the Number of Characters Present in a String"
   ]
  },
  {
   "cell_type": "code",
   "execution_count": 34,
   "metadata": {},
   "outputs": [
    {
     "name": "stdin",
     "output_type": "stream",
     "text": [
      "enter the string:  python programming is fun\n"
     ]
    },
    {
     "name": "stdout",
     "output_type": "stream",
     "text": [
      "Number of characters: 25\n",
      "Number of words 4\n"
     ]
    }
   ],
   "source": [
    "s = input(\"enter the string: \")\n",
    "char_count = 0\n",
    "for char in s:\n",
    "    char_count +=1\n",
    "\n",
    "words = s.split()\n",
    "word_count = 0\n",
    "for word in words:\n",
    "    word_count += 1\n",
    "print(\"Number of characters:\",char_count)\n",
    "print(\"Number of words\",word_count)\n"
   ]
  },
  {
   "cell_type": "raw",
   "metadata": {},
   "source": [
    "9.Python Program to Take in Two Strings and Display the Larger String without Using Built-in Functions"
   ]
  },
  {
   "cell_type": "code",
   "execution_count": 38,
   "metadata": {},
   "outputs": [
    {
     "name": "stdout",
     "output_type": "stream",
     "text": [
      "larger string: suma\n"
     ]
    }
   ],
   "source": [
    "s1 = \"sam\"\n",
    "s2 = \"suma\"\n",
    "\n",
    "s1_count = 0\n",
    "for char in s1:\n",
    "    s1_count +=1\n",
    "\n",
    "s2_count = 0\n",
    "for char in s2:\n",
    "    s2_count += 1\n",
    "if s1_count > s2_count:\n",
    "    print(\"larger string:\",s1)\n",
    "elif s2_count > s1_count:\n",
    "    print(\"larger string:\",s2)\n",
    "else:\n",
    "    print(\"Both strings are equal\",s1_count,s2_count)"
   ]
  },
  {
   "cell_type": "raw",
   "metadata": {},
   "source": [
    "10.Python Program to Count Number of Lowercase Characters in a String"
   ]
  },
  {
   "cell_type": "code",
   "execution_count": 44,
   "metadata": {},
   "outputs": [
    {
     "name": "stdout",
     "output_type": "stream",
     "text": [
      "lowercase characters are: 8\n"
     ]
    }
   ],
   "source": [
    "s = \"HelloWorld\"\n",
    "lowercase_count = 0\n",
    "for char in s:\n",
    "    if char.islower():\n",
    "        lowercase_count += 1\n",
    "print(\"lowercase characters are:\",lowercase_count)"
   ]
  },
  {
   "cell_type": "raw",
   "metadata": {},
   "source": [
    "11.Python Program to Check if a String is a Palindrome or Not"
   ]
  },
  {
   "cell_type": "code",
   "execution_count": 45,
   "metadata": {},
   "outputs": [
    {
     "name": "stdout",
     "output_type": "stream",
     "text": [
      "noon is a palindrome\n"
     ]
    }
   ],
   "source": [
    "s = \"noon\"\n",
    "reversed_string = \"\"\n",
    "for char in s:\n",
    "    reversed_string = char + reversed_string\n",
    "\n",
    "if s == reversed_string:\n",
    "    print(s,\"is a palindrome\")\n",
    "else:\n",
    "    print(s,\"is not a palindrome\")"
   ]
  },
  {
   "cell_type": "raw",
   "metadata": {},
   "source": [
    "12.Python Program to Calculate the Number of Upper Case Letters and Lower Case Letters in a String"
   ]
  },
  {
   "cell_type": "code",
   "execution_count": 48,
   "metadata": {},
   "outputs": [
    {
     "name": "stdout",
     "output_type": "stream",
     "text": [
      "Number of uppercase letters: 3\n",
      "Number of lowercase letters: 7\n"
     ]
    }
   ],
   "source": [
    "s = \"Hello WorLd\"\n",
    "uppercase_count = 0\n",
    "for char in s:\n",
    "    if char.isupper():\n",
    "        uppercase_count +=1   \n",
    "lowercase_count = 0\n",
    "for char in s:\n",
    "    if char.islower():\n",
    "        lowercase_count += 1\n",
    "print(\"Number of uppercase letters:\",uppercase_count)\n",
    "print(\"Number of lowercase letters:\",lowercase_count)"
   ]
  },
  {
   "cell_type": "raw",
   "metadata": {},
   "source": [
    "13.Python Program to Calculate the Number of Digits and Letters in a String"
   ]
  },
  {
   "cell_type": "code",
   "execution_count": 49,
   "metadata": {},
   "outputs": [
    {
     "name": "stdout",
     "output_type": "stream",
     "text": [
      "number of digits: 4\n",
      "number of letters: 4\n"
     ]
    }
   ],
   "source": [
    "s = \"1234suma\"\n",
    "digit_count = 0\n",
    "for char in s:\n",
    "    if char.isdigit():\n",
    "        digit_count += 1\n",
    "letters_count = 0\n",
    "for char in s:\n",
    "    if char.isalpha():\n",
    "        letters_count += 1\n",
    "print(\"number of digits:\",digit_count)\n",
    "print(\"number of letters:\",letters_count)"
   ]
  },
  {
   "cell_type": "raw",
   "metadata": {},
   "source": [
    "14.Python Program to Form a New String Made of the First 2 and Last 2 characters From a Given String"
   ]
  },
  {
   "cell_type": "code",
   "execution_count": 50,
   "metadata": {},
   "outputs": [
    {
     "name": "stdout",
     "output_type": "stream",
     "text": [
      "prng\n"
     ]
    }
   ],
   "source": [
    "s = \"programming\"\n",
    "count = 0\n",
    "for char in s:\n",
    "    count +=1\n",
    "if count < 2:\n",
    "    print(\"string length is too short to form new string\")\n",
    "else:\n",
    "    first2 = \"\"\n",
    "    last2 = \"\"\n",
    "\n",
    "    index = 0\n",
    "    for char in s:\n",
    "        if index < 2:\n",
    "            first2 += char\n",
    "            index += 1\n",
    "    index = 0\n",
    "    for char in s:\n",
    "        index += 1\n",
    "    last2 = s[index - 2] + s[index - 1]\n",
    "    new_string = first2 + last2\n",
    "    print(new_string)\n"
   ]
  },
  {
   "cell_type": "raw",
   "metadata": {},
   "source": [
    "15.Python Program to Count the Occurrences of Each Word in a Given String Sentence\n",
    "\n",
    "\"Everybody is selfish , the ratio diferrs , time to time , person to to person\"\n",
    "\n",
    "count the occurance of \"time\""
   ]
  },
  {
   "cell_type": "code",
   "execution_count": 52,
   "metadata": {},
   "outputs": [
    {
     "name": "stdout",
     "output_type": "stream",
     "text": [
      "word occurrences:\n",
      "Everybody : 1\n",
      "is : 1\n",
      "selfish : 1\n",
      ", : 3\n",
      "the : 1\n",
      "ratio : 1\n",
      "diferrs : 1\n",
      "time : 2\n",
      "to : 3\n",
      "person : 2\n"
     ]
    }
   ],
   "source": [
    "s = \"Everybody is selfish , the ratio diferrs , time to time , person to to person\"\n",
    "words = s.split()\n",
    "word_count = {}\n",
    "for word in words:\n",
    "    if word in word_count:\n",
    "        word_count[word] +=1\n",
    "    else:\n",
    "        word_count[word] = 1\n",
    "print(\"word occurrences:\")\n",
    "for word, count in word_count.items():\n",
    "    print(word,\":\",count)\n",
    "    \n"
   ]
  },
  {
   "cell_type": "code",
   "execution_count": null,
   "metadata": {},
   "outputs": [],
   "source": []
  }
 ],
 "metadata": {
  "kernelspec": {
   "display_name": "Python 3 (ipykernel)",
   "language": "python",
   "name": "python3"
  },
  "language_info": {
   "codemirror_mode": {
    "name": "ipython",
    "version": 3
   },
   "file_extension": ".py",
   "mimetype": "text/x-python",
   "name": "python",
   "nbconvert_exporter": "python",
   "pygments_lexer": "ipython3",
   "version": "3.13.5"
  }
 },
 "nbformat": 4,
 "nbformat_minor": 4
}
