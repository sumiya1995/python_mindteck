{
 "cells": [
  {
   "cell_type": "markdown",
   "metadata": {},
   "source": [
    "## List Simple - Questions"
   ]
  },
  {
   "cell_type": "code",
   "execution_count": 14,
   "metadata": {},
   "outputs": [
    {
     "name": "stdout",
     "output_type": "stream",
     "text": [
      "list is not empty\n"
     ]
    }
   ],
   "source": [
    "# 1. Write a Python program to check whether the list is empty or not.\n",
    "\n",
    "l = [1,2]\n",
    "if not l:\n",
    "    print(\"list is empty\")\n",
    "else:\n",
    "    print(\"list is not empty\")\n",
    "        "
   ]
  },
  {
   "cell_type": "code",
   "execution_count": 16,
   "metadata": {},
   "outputs": [
    {
     "name": "stdout",
     "output_type": "stream",
     "text": [
      "0 5\n",
      "1 15\n",
      "2 35\n",
      "3 8\n",
      "4 98\n"
     ]
    }
   ],
   "source": [
    "#''' 2. Write a Python program to access the index of all the elements in a list.\n",
    " #       Data:\n",
    " #           x = [5, 15, 35, 8, 98]\n",
    " #       Expected Output:\n",
    " #           0 5\n",
    " ##           1 15\n",
    "  ##          2 35\n",
    "  #          3 8\n",
    "  #          4 98 '''\n",
    "\n",
    "x = [5, 15, 35, 8, 98]\n",
    "for index,element in enumerate(x):\n",
    "    print(index,element)\n"
   ]
  },
  {
   "cell_type": "code",
   "execution_count": 18,
   "metadata": {},
   "outputs": [
    {
     "name": "stdout",
     "output_type": "stream",
     "text": [
      "abcd\n"
     ]
    }
   ],
   "source": [
    "#''' 3. Write a Python program to convert a list of characters into a string.\n",
    "#        Data:\n",
    "#            x = ['a', 'b', 'c', 'd']\n",
    "##        Expected Output:\n",
    " #           abcd '''\n",
    "\n",
    "x = ['a', 'b', 'c', 'd']\n",
    "result = \"\".join(x)\n",
    "print(result)\n"
   ]
  },
  {
   "cell_type": "code",
   "execution_count": 23,
   "metadata": {},
   "outputs": [
    {
     "name": "stdout",
     "output_type": "stream",
     "text": [
      "Index of 4 is 2\n"
     ]
    }
   ],
   "source": [
    "#''' 4. Write a Python program to find the index of specified item in a list.\n",
    "#        Data:\n",
    "#            x = [10, 30, 4, -6]\n",
    "#        Expected Output:\n",
    "#            Index of 4 is 2 '''\n",
    "\n",
    "\n",
    "x = [10, 30, 4, -6]\n",
    "item = 4\n",
    "index = x.index(item)\n",
    "print(\"Index of 4 is\",index)\n"
   ]
  },
  {
   "cell_type": "code",
   "execution_count": 24,
   "metadata": {},
   "outputs": [
    {
     "name": "stdout",
     "output_type": "stream",
     "text": [
      "-5\n"
     ]
    }
   ],
   "source": [
    "#''' 5. Write a Python program to print the sum of all the items in a list.\n",
    "#    Data:\n",
    "#        lt = [1, 2, -8]\n",
    "#    Expected Output:\n",
    "#        sum is -5 '''\n",
    "\n",
    "lt = [1, 2, -8]\n",
    "result = sum(lt)\n",
    "print(result)\n"
   ]
  },
  {
   "cell_type": "code",
   "execution_count": 31,
   "metadata": {},
   "outputs": [
    {
     "name": "stdout",
     "output_type": "stream",
     "text": [
      "1\n",
      "2\n",
      "-16\n"
     ]
    }
   ],
   "source": [
    "##''' 6. Write a Python program to multiply all the items in a list.\n",
    " #       Data:\n",
    " #           [1, 2, -8]\n",
    " #       Expected Output:\n",
    " #           -16 '''\n",
    "lt = [1, 2, -8]\n",
    "product = 1\n",
    "for num in lt:\n",
    "    product *= num\n",
    "    print(product)\n"
   ]
  },
  {
   "cell_type": "code",
   "execution_count": 32,
   "metadata": {},
   "outputs": [
    {
     "name": "stdout",
     "output_type": "stream",
     "text": [
      "largest number is: 2\n"
     ]
    }
   ],
   "source": [
    "#''' 7. Write a Python program to get the largest number from a list.\n",
    "#        Data:\n",
    "#            [1, 2, -8, 0]\n",
    "#        Expected Output:\n",
    "#            2 '''\n",
    "a = [1, 2, -8, 0]\n",
    "numbers = max(list)\n",
    "print(\"largest number is:\", numbers)\n"
   ]
  },
  {
   "cell_type": "code",
   "execution_count": 34,
   "metadata": {},
   "outputs": [
    {
     "name": "stdout",
     "output_type": "stream",
     "text": [
      "smallest number is: -8\n"
     ]
    }
   ],
   "source": [
    "#''' 8. Write a Python program to get the smallest number from a list. \n",
    "#        Data:\n",
    "#            [1, 2, -8, 0]\n",
    "#        Expected Output:\n",
    "#            -8 '''\n",
    "a = [1, 2, -8, 0]\n",
    "numbers = min(list)\n",
    "print(\"smallest number is:\",numbers)\n"
   ]
  },
  {
   "cell_type": "code",
   "execution_count": 41,
   "metadata": {},
   "outputs": [
    {
     "name": "stdout",
     "output_type": "stream",
     "text": [
      "[10, 20, 30, 50, 60, 40, 80]\n"
     ]
    }
   ],
   "source": [
    "#''' 9. Write a Python program to remove duplicate items from a list.\n",
    "#        Data:\n",
    "#            a = [10,20,30,20,10,50,60,40,80,50,40]\n",
    "#        Expected Output:\n",
    "#            [10, 20, 30, 50, 60, 40, 80] '''\n",
    "\n",
    "a = [10, 20, 30, 20, 10, 50, 60, 40, 80, 50, 40]\n",
    "duplicates = []\n",
    "for num in a:\n",
    "    if num not in duplicates:\n",
    "        duplicates.append(num)\n",
    "print(duplicates)\n"
   ]
  },
  {
   "cell_type": "code",
   "execution_count": 51,
   "metadata": {},
   "outputs": [
    {
     "name": "stdout",
     "output_type": "stream",
     "text": [
      "x: [10, 22, 44, 23, 4]\n",
      "y: [10, 22, 44, 23, 4]\n"
     ]
    }
   ],
   "source": [
    "#''' 10. Write a Python program to clone or copy a list.\n",
    "#        Data:\n",
    "#            x = [10, 22, 44, 23, 4]\n",
    "#        Expected Output:\n",
    "#            X - [10, 22, 44, 23, 4]\n",
    "#            Y - [10, 22, 44, 23, 4] '''\n",
    "\n",
    "\n",
    "x = [10, 22, 44, 23, 4]\n",
    "y = []\n",
    "for num in x:\n",
    "    if num not in y:\n",
    "        y.append(num)\n",
    "print(\"x:\",x)\n",
    "print(\"y:\",y)"
   ]
  },
  {
   "cell_type": "code",
   "execution_count": 57,
   "metadata": {},
   "outputs": [
    {
     "name": "stdout",
     "output_type": "stream",
     "text": [
      "(1, 2, 3, 4, 5)\n",
      "[1, 2, 3, 4, 5]\n"
     ]
    }
   ],
   "source": [
    "#''' 11. Write a Python program to convert a tuple into a List.\n",
    "#        Data:\n",
    "##            x = (1,2,3,4,5)\n",
    "#        Expected Output:\n",
    "#            (1, 2, 3, 4, 5)\n",
    "#            [1, 2, 3, 4, 5] '''\n",
    "\n",
    "x = (1,2,3,4,5)\n",
    "y = []\n",
    "for num in x:\n",
    "    if num not in y:\n",
    "        y.append(num)\n",
    "print(x)\n",
    "print(y)\n"
   ]
  },
  {
   "cell_type": "code",
   "execution_count": 1,
   "metadata": {},
   "outputs": [
    {
     "name": "stdout",
     "output_type": "stream",
     "text": [
      "[7, 25, 27]\n"
     ]
    }
   ],
   "source": [
    "#''' 12. Write a Python program to print the numbers of a specified list after removing even numbers from it.\n",
    "#        Data:\n",
    "#            x = [7, 8, 120, 25, 44, 20, 27]\n",
    "#        Expected Output:\n",
    "#            [7, 25, 27] '''\n",
    "\n",
    "x = [7, 8, 120, 25, 44, 20, 27]\n",
    "y = []\n",
    "for num in x:\n",
    "    if num % 2!=0:\n",
    "        y.append(num)\n",
    "print(y)\n"
   ]
  },
  {
   "cell_type": "code",
   "execution_count": 14,
   "metadata": {},
   "outputs": [
    {
     "name": "stdout",
     "output_type": "stream",
     "text": [
      "['Black', 'Green', 'White', 'Pink', 'Yellow', 'Red']\n"
     ]
    }
   ],
   "source": [
    "''' 13. Write a Python program to shuffle and print a specified list. \n",
    "        Data:\n",
    "            x = ['Red', 'Green', 'White', 'Black', 'Pink', 'Yellow']\n",
    "        Expected Output:\n",
    "            ['Pink', 'Black', 'Red', 'Yellow', 'White', 'Green'] '''\n",
    "import random\n",
    "x = ['Red', 'Green', 'White', 'Black', 'Pink', 'Yellow']\n",
    "random.shuffle(x)\n",
    "print(x)\n"
   ]
  },
  {
   "cell_type": "code",
   "execution_count": 15,
   "metadata": {},
   "outputs": [
    {
     "name": "stdout",
     "output_type": "stream",
     "text": [
      "[1, 2, 3, 0, 'Red', 'Green', 'Black']\n"
     ]
    }
   ],
   "source": [
    "''' 14. Write a Python program to append the second list to the first list.\n",
    "        Data:\n",
    "            x = [1, 2, 3, 0]\n",
    "            y = ['Red', 'Green', 'Black']\n",
    "        Expected Output:\n",
    "            [1, 2, 3, 0, 'Red', 'Green', 'Black'] '''\n",
    "\n",
    "x = [1, 2, 3, 0]\n",
    "y = ['Red', 'Green', 'Black']\n",
    "x.extend(y)\n",
    "print(x)\n"
   ]
  },
  {
   "cell_type": "code",
   "execution_count": 20,
   "metadata": {},
   "outputs": [
    {
     "name": "stdout",
     "output_type": "stream",
     "text": [
      "White\n"
     ]
    }
   ],
   "source": [
    "''' 15. Write a Python program to select an item randomly from a list.\n",
    "        Data:\n",
    "            x = ['Red', 'Blue', 'Green', 'White', 'Black']\n",
    "        Expected Output:\n",
    "            White '''\n",
    "\n",
    "import random\n",
    "x = ['Red', 'Blue', 'Green', 'White', 'Black']\n",
    "random_item = random.choice(x)\n",
    "print(random_item)"
   ]
  },
  {
   "cell_type": "code",
   "execution_count": 3,
   "metadata": {},
   "outputs": [
    {
     "name": "stdout",
     "output_type": "stream",
     "text": [
      "[10, 20, 30, 40, 50, 60]\n"
     ]
    }
   ],
   "source": [
    "''' 16. Write a Python program to get unique values from a list.\n",
    "        Data:\n",
    "            Original List :  [10, 20, 30, 40, 20, 50, 60, 40]\n",
    "        Expected Output:\n",
    "            List of unique numbers :  [40, 10, 50, 20, 60, 30] '''\n",
    "\n",
    "a = [10, 20, 30, 40, 20, 50, 60, 40]\n",
    "unique = []\n",
    "for num in a:\n",
    "    if num not in unique:\n",
    "        unique.append(num)\n",
    "print(unique)\n",
    "    \n",
    "\n"
   ]
  },
  {
   "cell_type": "code",
   "execution_count": 4,
   "metadata": {},
   "outputs": [
    {
     "name": "stdout",
     "output_type": "stream",
     "text": [
      "2298763088048\n",
      "140727474045672\n"
     ]
    }
   ],
   "source": [
    "''' 17. Write a Python program to get variable unique identification number or string.\n",
    "        Data:\n",
    "            var1 = 'Python'\n",
    "            var2 = 123\n",
    "        Expected Output:\n",
    "            186756869b0\n",
    "            7ffea3a83660 '''\n",
    "\n",
    "var1 = 'Python'\n",
    "var2 = 123\n",
    "id_var1 = str(id(var1))\n",
    "id_var2 = str(id(var2))\n",
    "\n",
    "print(id_var1)\n",
    "print(id_var2)\n"
   ]
  },
  {
   "cell_type": "code",
   "execution_count": 5,
   "metadata": {},
   "outputs": [
    {
     "name": "stdout",
     "output_type": "stream",
     "text": [
      "['Green', 'White']\n"
     ]
    }
   ],
   "source": [
    "''' 18. Write a Python program to print common elements from two lists using set().\n",
    "        Data:\n",
    "            x = (\"Red\", \"Green\", \"Orange\", \"White\")\n",
    "            y = (\"Black\", \"Green\", \"White\", \"Pink\")\n",
    "        Expected Output:\n",
    "            {'White', 'Green'} '''\n",
    "\n",
    "x = (\"Red\", \"Green\", \"Orange\", \"White\")\n",
    "y = (\"Black\", \"Green\", \"White\", \"Pink\")\n",
    "common_elements = list(set(x) & set(y))\n",
    "print(common_elements)\n"
   ]
  },
  {
   "cell_type": "code",
   "execution_count": 12,
   "metadata": {},
   "outputs": [
    {
     "name": "stdout",
     "output_type": "stream",
     "text": [
      "112233\n"
     ]
    }
   ],
   "source": [
    "''' 19. Write a Python program to convert a list of multiple integers into a single integer.\n",
    "        Data:\n",
    "            x = [11, 22, 33]\n",
    "        Expected Output:\n",
    "            112233 '''\n",
    "\n",
    "x = [11, 22, 33]\n",
    "num_str = \"\".join(str(num) for num in x)\n",
    "result = int(num_str)\n",
    "print(result)"
   ]
  },
  {
   "cell_type": "code",
   "execution_count": 13,
   "metadata": {},
   "outputs": [
    {
     "name": "stdout",
     "output_type": "stream",
     "text": [
      "{'1': [], '2': [], '3': [], '4': [], '5': [], '6': [], '7': [], '8': [], '9': []}\n"
     ]
    }
   ],
   "source": [
    "''' 20. Write a Python program to create multiple lists.\n",
    "        Data:\n",
    "            x = {}\n",
    "        Expected Output:\n",
    "            {'1': [], '2': [], '3': [], '4': [], '5': [], '6': [], '7': [], '8': [], '9': []} '''\n",
    "\n",
    "x = {}\n",
    "for i in range(1,10):\n",
    "    x[str(i)] = []\n",
    "print(x)\n",
    "        \n"
   ]
  },
  {
   "cell_type": "code",
   "execution_count": null,
   "metadata": {},
   "outputs": [],
   "source": [
    "\n"
   ]
  },
  {
   "cell_type": "code",
   "execution_count": null,
   "metadata": {},
   "outputs": [],
   "source": []
  }
 ],
 "metadata": {
  "kernelspec": {
   "display_name": "Python 3 (ipykernel)",
   "language": "python",
   "name": "python3"
  },
  "language_info": {
   "codemirror_mode": {
    "name": "ipython",
    "version": 3
   },
   "file_extension": ".py",
   "mimetype": "text/x-python",
   "name": "python",
   "nbconvert_exporter": "python",
   "pygments_lexer": "ipython3",
   "version": "3.13.5"
  }
 },
 "nbformat": 4,
 "nbformat_minor": 4
}
