{
 "cells": [
  {
   "cell_type": "markdown",
   "metadata": {},
   "source": [
    "# Nested Dictionary Simple Questions"
   ]
  },
  {
   "cell_type": "code",
   "execution_count": 1,
   "metadata": {},
   "outputs": [
    {
     "name": "stdout",
     "output_type": "stream",
     "text": [
      "{'x': {'name': 'Boss', 'job': 'Mgr'}, 'y': {'name': 'Suresh', 'job': 'Dev'}, 'z': {'name': 'Siva', 'job': 'Dev'}}\n"
     ]
    }
   ],
   "source": [
    "'''1. Write a python program to create a simple nested dictionary.\n",
    "    Expected Output:\n",
    "        {'x': {'name': 'Boss', 'job': 'Mgr'},'y': {'name': 'Suresh', 'job': 'Dev'},'z': {'name': 'Siva', 'job': 'Dev'}}'''\n",
    "nested_dict = {'x': {'name': 'Boss', 'job': 'Mgr'},'y': {'name': 'Suresh', 'job': 'Dev'},'z': {'name': 'Siva', 'job': 'Dev'}}\n",
    "print(nested_dict)        "
   ]
  },
  {
   "cell_type": "code",
   "execution_count": 2,
   "metadata": {},
   "outputs": [
    {
     "name": "stdout",
     "output_type": "stream",
     "text": [
      "{'x': {'name': 'Boss', 'job': 'Mgr'}, 'y': {'name': 'Suresh', 'job': 'Dev'}, 'z': {'name': 'Siva', 'job': 'Dev'}}\n"
     ]
    }
   ],
   "source": [
    "'''2. Write a python to create a nested dictionary using two given lists, in which take one list as key and other list as value.\n",
    "    Data:\n",
    "        IDs = ['x','y','z']\n",
    "        EmpInfo = [{'name': 'Boss', 'job': 'Mgr'},{'name': 'Suresh', 'job': 'Dev'},{'name': 'Siva', 'job': 'Dev'}]\n",
    "    Expected Output:\n",
    "        {'x': {'name': 'Boss', 'job': 'Mgr'}, 'y': {'name': 'Suresh', 'job': 'Dev'}, 'z': {'name': 'Siva', 'job': 'Dev'}}'''\n",
    "\n",
    "IDs = ['x','y','z']\n",
    "EmpInfo = [{'name': 'Boss', 'job': 'Mgr'},{'name': 'Suresh', 'job': 'Dev'},{'name': 'Siva', 'job': 'Dev'}]\n",
    "nested_dict = {key: value for key, value in zip(IDs, EmpInfo)}\n",
    "print(nested_dict)        "
   ]
  },
  {
   "cell_type": "code",
   "execution_count": 5,
   "metadata": {},
   "outputs": [
    {
     "name": "stdout",
     "output_type": "stream",
     "text": [
      "{'x': {'name': '', 'job': ''}, 'y': {'name': '', 'job': ''}, 'z': {'name': '', 'job': ''}}\n"
     ]
    }
   ],
   "source": [
    "'''3. Write a python program to create a nested dictionary as given below using fromkeys() method.\n",
    "    Data:\n",
    "        IDs = ['x','y','z']\n",
    "        Defaults = {'name': '', 'job': ''}\n",
    "    Expected Output: \n",
    "        {'x': {'name': '', 'job': ''}, 'y': {'name': '', 'job': ''}, 'z': {'name': '', 'job': ''}}'''\n",
    "IDs = ['x','y','z']\n",
    "Defaults = {'name': '', 'job': ''}\n",
    "nested_dict = {key: Defaults.copy() for key in IDs}\n",
    "print(nested_dict)       \n",
    "        "
   ]
  },
  {
   "cell_type": "code",
   "execution_count": 7,
   "metadata": {},
   "outputs": [
    {
     "name": "stdout",
     "output_type": "stream",
     "text": [
      "Boss\n",
      "Dev\n"
     ]
    }
   ],
   "source": [
    "\"\"\"4. Write a python program to access individual items in a nested dictionary. For example, print the name 'Siva' from given nested dictionary.\n",
    "    Data:\n",
    "        D = {'x': {'name': 'Boss', 'job': 'Mgr'},'y': {'name': 'Suresh', 'job': 'Dev'},'z': {'name': 'Siva', 'job': 'Dev'}}\n",
    "    Expected Output:\n",
    "        Boss\n",
    "        Dev \"\"\"\n",
    "\n",
    "D = {'x': {'name': 'Boss', 'job': 'Mgr'},'y': {'name': 'Suresh', 'job': 'Dev'},'z': {'name': 'Siva', 'job': 'Dev'}}\n",
    "print(D['x']['name'])\n",
    "print(D['y']['job'])\n",
    "        "
   ]
  },
  {
   "cell_type": "code",
   "execution_count": 9,
   "metadata": {},
   "outputs": [
    {
     "name": "stdout",
     "output_type": "stream",
     "text": [
      "Boss\n",
      "None\n"
     ]
    }
   ],
   "source": [
    "'''5. Write a python program to print the value that is not present in the given nested dictionary, without throwing any error using get() method.\n",
    "    Data:\n",
    "        D = {'x': {'name': 'Boss', 'job': 'Mgr'},'y': {'name': 'Suresh', 'job': 'Dev'},'z': {'name': 'Siva', 'job': 'Dev'}}\n",
    "    Expected Output:\n",
    "        Boss\n",
    "        None '''\n",
    "D = {'x': {'name': 'Boss', 'job': 'Mgr'},'y': {'name': 'Suresh', 'job': 'Dev'},'z': {'name': 'Siva', 'job': 'Dev'}}\n",
    "print(D.get('x',{}).get('name'))\n",
    "print(D.get('a',{}).get('name'))        "
   ]
  },
  {
   "cell_type": "code",
   "execution_count": 11,
   "metadata": {},
   "outputs": [
    {
     "name": "stdout",
     "output_type": "stream",
     "text": [
      "{'x': {'name': 'Boss', 'job': 'Mgr'}, 'y': {'name': 'Suresh', 'job': 'Dev'}, 'z': {'name': 'Karthi', 'job': 'Janitor'}}\n",
      "{'name': 'Karthi', 'job': 'Janitor'}\n"
     ]
    }
   ],
   "source": [
    "'''6. Write a python program to update the value of a specific item in a nested dictionary, by refering its key.\n",
    "    Data:\n",
    "        D = {'x': {'name': 'Boss', 'job': 'Mgr'},'y': {'name': 'Suresh', 'job': 'Dev'},'z': {'name': 'Siva', 'job': 'Dev'}}\n",
    "    Expected Output:\n",
    "        {'name': 'Karthi', 'job': 'Janitor'}'''\n",
    "\n",
    "D = {'x': {'name': 'Boss', 'job': 'Mgr'},'y': {'name': 'Suresh', 'job': 'Dev'},'z': {'name': 'Siva', 'job': 'Dev'}}\n",
    "D['z'] = {'name' : 'Karthi', 'job' : 'Janitor'}\n",
    "print(D)\n",
    "print(D['z'])\n",
    "        "
   ]
  },
  {
   "cell_type": "code",
   "execution_count": 12,
   "metadata": {},
   "outputs": [
    {
     "name": "stdout",
     "output_type": "stream",
     "text": [
      "{'x': {'name': 'Boss', 'job': 'Mgr'}, 'y': {'name': 'Suresh', 'job': 'Dev'}, 'z': {'name': 'Karthi', 'job': 'Janitor'}}\n"
     ]
    }
   ],
   "source": [
    "'''7. Write a python program to update a whole dictionary of a given nested dictionary. \n",
    "            For example, update the values of a dictionary whose key is 'z'.\n",
    "    Data:\n",
    "        D = {'x': {'name': 'Boss', 'job': 'Mgr'},'y': {'name': 'Suresh', 'job': 'Dev'},'z': {'name': 'Siva', 'job': 'Dev'}}\n",
    "    Expected Output:\n",
    "        {'x': {'name': 'Boss', 'job': 'Mgr'}, 'y': {'name': 'Suresh', 'job': 'Dev'}, 'z': {'name': 'Karthi', 'job': 'Janitor'}}'''\n",
    "        \n",
    "D = {'x': {'name': 'Boss', 'job': 'Mgr'},'y': {'name': 'Suresh', 'job': 'Dev'},'z': {'name': 'Siva', 'job': 'Dev'}}\n",
    "D['z'] = {'name' : 'Karthi', 'job' : 'Janitor'}\n",
    "print(D)               "
   ]
  },
  {
   "cell_type": "code",
   "execution_count": 15,
   "metadata": {},
   "outputs": [
    {
     "name": "stdout",
     "output_type": "stream",
     "text": [
      "{'x': {'name': 'Boss', 'job': 'Mgr'}, 'y': {'name': 'Suresh', 'job': 'Dev'}, 'z': {'name': 'Siva', 'job': 'Dev'}, 'A': {'name': 'Karthi', 'job': 'Janitor'}}\n"
     ]
    }
   ],
   "source": [
    "'''8. Write a python program to add a new dictionary to a given nested dictionary. \n",
    "            For example, add a new dictionary 'A': {'name': 'Karthi', 'job': 'Janitor'} to the given data.\n",
    "    Data:\n",
    "        D = {'x': {'name': 'Boss', 'job': 'Mgr'},'y': {'name': 'Suresh', 'job': 'Dev'},'z': {'name': 'Siva', 'job': 'Dev'}}\n",
    "    Expected Output:\n",
    "        {'x': {'name': 'Boss', 'job': 'Mgr'}, \n",
    "         'y': {'name': 'Suresh', 'job': 'Dev'}, \n",
    "         'z': {'name': 'Siva', 'job': 'Dev'}, \n",
    "         'A': {'name': 'Karthi', 'job': 'Janitor'}} '''\n",
    "D = {'x': {'name': 'Boss', 'job': 'Mgr'},'y': {'name': 'Suresh', 'job': 'Dev'},'z': {'name': 'Siva', 'job': 'Dev'}}\n",
    "D['A'] = {'name': 'Karthi', 'job': 'Janitor'}\n",
    "print(D)\n",
    "        "
   ]
  },
  {
   "cell_type": "code",
   "execution_count": 21,
   "metadata": {},
   "outputs": [
    {
     "name": "stdout",
     "output_type": "stream",
     "text": [
      "{'x': {'name': 'Boss', 'job': 'Mgr'}, 'y': {'name': 'Suresh', 'job': 'Dev'}, 'z': {'name': 'Siva', 'job': 'Dev'}, 'A': {'name': 'Karthi', 'job': 'Janitor'}}\n"
     ]
    }
   ],
   "source": [
    "'''9. Write a python program to update the dictionary D2 into the dictionary D1 using the built-in update() method.\n",
    "    Data:\n",
    "        D1 = {'x': {'name': 'Boss', 'job': 'Mgr'}, 'y': {'name': 'Suresh', 'job': 'Dev'},}\n",
    "        D2 = {'z': {'name': 'Siva', 'job': 'Dev'}, 'A': {'name': 'Karthi', 'job': 'Janitor'}}\n",
    "    Expected Output:\n",
    "        {'x': {'name': 'Boss', 'job': 'Mgr'}, \n",
    "         'y': {'name': 'Suresh', 'job': 'Dev'}, \n",
    "         'z': {'name': 'Siva', 'job': 'Dev'}, \n",
    "         'A': {'name': 'Karthi', 'job': 'Janitor'}}'''\n",
    "        \n",
    "D1 = {'x': {'name': 'Boss', 'job': 'Mgr'}, 'y': {'name': 'Suresh', 'job': 'Dev'}}        \n",
    "D2 = {'z': {'name': 'Siva', 'job': 'Dev'}, 'A': {'name': 'Karthi', 'job': 'Janitor'}}  \n",
    "D1.update(D2)\n",
    "print(D1)\n",
    "        "
   ]
  },
  {
   "cell_type": "code",
   "execution_count": 24,
   "metadata": {},
   "outputs": [
    {
     "name": "stdout",
     "output_type": "stream",
     "text": [
      "{'x': {'name': 'Boss', 'job': 'Mgr'}, 'y': {'name': 'Suresh', 'job': 'Dev'}}\n",
      "{'name': 'Siva', 'job': 'Dev'}\n"
     ]
    }
   ],
   "source": [
    "'''10. Write a python program to remove the key 'z' from the given nested dictionary using pop().\n",
    "    Data:\n",
    "        D = {'x': {'name': 'Boss', 'job': 'Mgr'},'y': {'name': 'Suresh', 'job': 'Dev'},'z': {'name': 'Siva', 'job': 'Dev'}}\n",
    "    Expected Output:\n",
    "        {'x': {'name': 'Boss', 'job': 'Mgr'}, \n",
    "         'y': {'name': 'Suresh', 'job': 'Dev'}}\n",
    "              {'name': 'Siva', 'job': 'Dev'} '''\n",
    "            \n",
    "D = {'x': {'name': 'Boss', 'job': 'Mgr'},'y': {'name': 'Suresh', 'job': 'Dev'},'z': {'name': 'Siva', 'job': 'Dev'}}\n",
    "removed_value = D.pop('z')\n",
    "print(D)\n",
    "print(removed_value)\n",
    "            \n",
    "            "
   ]
  },
  {
   "cell_type": "code",
   "execution_count": null,
   "metadata": {},
   "outputs": [],
   "source": []
  }
 ],
 "metadata": {
  "kernelspec": {
   "display_name": "Python [conda env:base] *",
   "language": "python",
   "name": "conda-base-py"
  },
  "language_info": {
   "codemirror_mode": {
    "name": "ipython",
    "version": 3
   },
   "file_extension": ".py",
   "mimetype": "text/x-python",
   "name": "python",
   "nbconvert_exporter": "python",
   "pygments_lexer": "ipython3",
   "version": "3.13.5"
  }
 },
 "nbformat": 4,
 "nbformat_minor": 4
}
