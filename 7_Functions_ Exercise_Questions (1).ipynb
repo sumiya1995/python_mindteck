{
 "cells": [
  {
   "cell_type": "code",
   "execution_count": 13,
   "metadata": {},
   "outputs": [
    {
     "name": "stdin",
     "output_type": "stream",
     "text": [
      "enter the hours:  2\n"
     ]
    },
    {
     "name": "stdout",
     "output_type": "stream",
     "text": [
      "2.0 hours equals to 120.0 minutes\n"
     ]
    }
   ],
   "source": [
    "# Write a function to hours to minutes , user should able to give hours as input\n",
    "\n",
    "# your Answer\n",
    "\n",
    "def hrstominscalc():\n",
    "    x = float(input(\"enter the hours: \"))\n",
    "    y = x*60\n",
    "    print(x,\"hours equals to\",y,\"minutes\")\n",
    "hrstominscalc()"
   ]
  },
  {
   "cell_type": "code",
   "execution_count": 10,
   "metadata": {},
   "outputs": [
    {
     "name": "stdin",
     "output_type": "stream",
     "text": [
      "enter the centimeter:  30\n"
     ]
    },
    {
     "name": "stdout",
     "output_type": "stream",
     "text": [
      "30.0 is equals to 0.3 meter\n"
     ]
    }
   ],
   "source": [
    "# Write a function to convert centimeter to meter , user shoulb be able to give centimeter as input\n",
    "# your Answer\n",
    "\n",
    "def cmtomcalc():\n",
    "    x = float(input(\"enter the centimeter: \"))\n",
    "    m = x / 100\n",
    "    print(x,\"is equals to\",m,\"meter\")\n",
    "cmtomcalc()"
   ]
  },
  {
   "cell_type": "code",
   "execution_count": 14,
   "metadata": {},
   "outputs": [
    {
     "name": "stdin",
     "output_type": "stream",
     "text": [
      "enter the miles:  10\n"
     ]
    },
    {
     "name": "stdout",
     "output_type": "stream",
     "text": [
      "16.09 is equal to 16.09 km\n"
     ]
    }
   ],
   "source": [
    "# Write a function to convert miles to Kilometer , user shoulb be able to give miles as input\n",
    "\n",
    "# your Answer\n",
    "\n",
    "def miltokmcalc():\n",
    "    mil = float(input(\"enter the miles: \"))\n",
    "    x = mil * 1.609\n",
    "    print(x,\"is equal to\",x,\"km\")\n",
    "miltokmcalc()\n"
   ]
  },
  {
   "cell_type": "code",
   "execution_count": 17,
   "metadata": {},
   "outputs": [
    {
     "name": "stdin",
     "output_type": "stream",
     "text": [
      "enter the pounds:  5\n"
     ]
    },
    {
     "name": "stdout",
     "output_type": "stream",
     "text": [
      "5.0 is equals to 2.25 kg\n"
     ]
    }
   ],
   "source": [
    "# Write a function to convert pounds to Kilogram , user shoulb be able to give pounds as input\n",
    "# your Answer\n",
    "\n",
    "def poutokgcalc():\n",
    "    pou = float(input(\"enter the pounds: \"))\n",
    "    kg = pou * 0.45\n",
    "    print(pou,\"is equals to\",kg,\"kg\")\n",
    "poutokgcalc()\n"
   ]
  },
  {
   "cell_type": "code",
   "execution_count": 22,
   "metadata": {},
   "outputs": [
    {
     "name": "stdin",
     "output_type": "stream",
     "text": [
      "enter the principla value:  15000\n",
      "enter the duration:  2\n",
      "enter the rate of interest:  2.5\n"
     ]
    },
    {
     "name": "stdout",
     "output_type": "stream",
     "text": [
      "750.0\n"
     ]
    }
   ],
   "source": [
    "# Write a function to calculate simple interest # all input shoulb be given by the user\n",
    "# your Answer\n",
    "\n",
    "def siintcalc():\n",
    "    p = int(input(\"enter the principla value: \"))\n",
    "    d = float(input(\"enter the duration: \"))\n",
    "    r = float(input(\"enter the rate of interest: \"))\n",
    "    si = p*d*r/100\n",
    "    print(si)\n",
    "siintcalc()"
   ]
  },
  {
   "cell_type": "code",
   "execution_count": 26,
   "metadata": {},
   "outputs": [
    {
     "name": "stdout",
     "output_type": "stream",
     "text": [
      "3 is equals to 28.259999999999998 area\n"
     ]
    }
   ],
   "source": [
    "# Write a function to calculate area of circle\n",
    "# your Answer\n",
    "\n",
    "def areaofcircle():\n",
    "    radius = 3\n",
    "    area = 3.14 * radius * radius\n",
    "    print(radius,\"is equals to\",area,\"area\")\n",
    "areaofcircle()"
   ]
  },
  {
   "cell_type": "code",
   "execution_count": 28,
   "metadata": {},
   "outputs": [
    {
     "name": "stdout",
     "output_type": "stream",
     "text": [
      "5 is equals to 31.400000000000002 cir\n"
     ]
    }
   ],
   "source": [
    "# Write a function to calculate circumference of circle\n",
    "# your Answer\n",
    "\n",
    "def cirofcircle():\n",
    "    r = 5\n",
    "    cir = 2 * 3.14 * r\n",
    "    print(r,\"is equals to\",cir,\"cir\")\n",
    "cirofcircle()"
   ]
  },
  {
   "cell_type": "code",
   "execution_count": 32,
   "metadata": {},
   "outputs": [
    {
     "name": "stdout",
     "output_type": "stream",
     "text": [
      "4 is equals to 16 perimeter of square\n"
     ]
    }
   ],
   "source": [
    "# Write a function to calculate perimeter of square\n",
    "# your Answer\n",
    "\n",
    "def perofsq():\n",
    "    a = 4\n",
    "    per = a+a+a+a\n",
    "    print(a,\"is equals to\",per,\"perimeter of square\")\n",
    "perofsq()\n"
   ]
  },
  {
   "cell_type": "code",
   "execution_count": 34,
   "metadata": {},
   "outputs": [
    {
     "name": "stdout",
     "output_type": "stream",
     "text": [
      "2 is equals to 4 area of square\n"
     ]
    }
   ],
   "source": [
    "# Write a fucntion to calculate area of square\n",
    "# your Answer\n",
    "\n",
    "def areaofsq():\n",
    "    sq = 2\n",
    "    area = sq * sq\n",
    "    print(sq,\"is equals to\",area,\"area of square\")\n",
    "areaofsq()\n"
   ]
  },
  {
   "cell_type": "code",
   "execution_count": 36,
   "metadata": {},
   "outputs": [
    {
     "name": "stdout",
     "output_type": "stream",
     "text": [
      "area of traingle is: 8.0\n"
     ]
    }
   ],
   "source": [
    "# Write a function to area of traingle\n",
    "# your Answer\n",
    "\n",
    "def areaoftri():\n",
    "    b = 4\n",
    "    h = 4\n",
    "    area = 0.5 * b * h\n",
    "    print(\"area of traingle is:\",area)\n",
    "areaoftri()\n"
   ]
  },
  {
   "cell_type": "code",
   "execution_count": null,
   "metadata": {},
   "outputs": [],
   "source": []
  }
 ],
 "metadata": {
  "kernelspec": {
   "display_name": "Python 3 (ipykernel)",
   "language": "python",
   "name": "python3"
  },
  "language_info": {
   "codemirror_mode": {
    "name": "ipython",
    "version": 3
   },
   "file_extension": ".py",
   "mimetype": "text/x-python",
   "name": "python",
   "nbconvert_exporter": "python",
   "pygments_lexer": "ipython3",
   "version": "3.13.5"
  }
 },
 "nbformat": 4,
 "nbformat_minor": 4
}
