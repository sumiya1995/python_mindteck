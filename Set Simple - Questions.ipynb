{
 "cells": [
  {
   "cell_type": "markdown",
   "metadata": {},
   "source": [
    "# Set Simple Questions"
   ]
  },
  {
   "cell_type": "code",
   "execution_count": 3,
   "metadata": {},
   "outputs": [
    {
     "name": "stdout",
     "output_type": "stream",
     "text": [
      "{1, 2, 3, 4}\n"
     ]
    }
   ],
   "source": [
    "'''1. Write a Python program to convert and print the given list into a set.\n",
    "    Data:\n",
    "        x = [1,2,3,4]\n",
    "    Expected Output:\n",
    "        x = {1,2,3,4}'''\n",
    "        \n",
    "x = [1,2,3,4]\n",
    "y = set(x)\n",
    "print(y)\n",
    "        "
   ]
  },
  {
   "cell_type": "code",
   "execution_count": 5,
   "metadata": {},
   "outputs": [
    {
     "name": "stdout",
     "output_type": "stream",
     "text": [
      "6\n"
     ]
    }
   ],
   "source": [
    "'''2.Write a Python program to find the length of a given set.\n",
    "    Data:\n",
    "        x = {4,5,6,7,9,2}\n",
    "    Expected Output:\n",
    "        6'''\n",
    "x = {4,5,6,7,9,2}\n",
    "y = len(x)\n",
    "print(y)\n"
   ]
  },
  {
   "cell_type": "code",
   "execution_count": 13,
   "metadata": {},
   "outputs": [
    {
     "name": "stdout",
     "output_type": "stream",
     "text": [
      "{\"Boss\", \"Siva\"}\n"
     ]
    }
   ],
   "source": [
    "'''3. Write a Python program to create a shallow copy of sets. \n",
    "    Data:\n",
    "        a = [\"Boss\",\"Siva\"]\n",
    "    Expected Output:\n",
    "        {\"Boss\",\"Siva\"}'''\n",
    "        \n",
    "a = [\"Boss\", \"Siva\"]\n",
    "b = set(a)\n",
    "c = b.copy()\n",
    "print('{'+', '.join(f'\"{item}\"' for item in c) +'}')\n",
    "        "
   ]
  },
  {
   "cell_type": "code",
   "execution_count": 16,
   "metadata": {},
   "outputs": [
    {
     "name": "stdout",
     "output_type": "stream",
     "text": [
      "{0, 1, 2, 4, 5}\n"
     ]
    }
   ],
   "source": [
    "'''4. Write a Python program to remove an element from the given set using discard().\n",
    "    Data:\n",
    "        x= {0,1,2,3,4,5}\n",
    "    Expected Output:\n",
    "        {0, 1, 2, 4, 5}'''\n",
    "        \n",
    "x = {0,1,2,3,4,5}\n",
    "x.discard(3)\n",
    "print(x)\n"
   ]
  },
  {
   "cell_type": "code",
   "execution_count": 36,
   "metadata": {},
   "outputs": [
    {
     "name": "stdout",
     "output_type": "stream",
     "text": [
      "{'Boss', 'Suresh', 'Siva'}\n",
      "{\"Boss\",\"Suresh\",\"Siva\"}\n"
     ]
    }
   ],
   "source": [
    "'''5. Write a Python program to add elements to a given set.\n",
    "    Data:\n",
    "        {\"Boss\"}\n",
    "    Expected Output:\n",
    "        {\"Boss\", \"Siva\", \"Suresh\"}'''\n",
    "\n",
    "x = {\"Boss\"}\n",
    "x.add(\"Siva\")\n",
    "x.add(\"Suresh\")\n",
    "print(x)\n",
    "print('{'+','.join(f'\"{item}\"' for item in x) + '}')\n",
    "        \n"
   ]
  },
  {
   "cell_type": "code",
   "execution_count": 46,
   "metadata": {},
   "outputs": [
    {
     "name": "stdout",
     "output_type": "stream",
     "text": [
      "{1, 2, 3, 4}\n"
     ]
    }
   ],
   "source": [
    "'''6. Write a Python program to remove an element from the given set using pop().\n",
    "    Data:\n",
    "        x = {1,2,3,4,5,6}\n",
    "    Expected Output:\n",
    "        {1, 2, 3, 4}'''\n",
    "#we can use either discard or remove to remove an specific element        \n",
    "x = {1,2,3,4,5,6}\n",
    "x.remove(5)\n",
    "x.remove(6)\n",
    "print(x)"
   ]
  },
  {
   "cell_type": "code",
   "execution_count": 50,
   "metadata": {},
   "outputs": [
    {
     "name": "stdout",
     "output_type": "stream",
     "text": [
      "1\n",
      "2\n",
      "3\n",
      "4\n",
      "5\n"
     ]
    }
   ],
   "source": [
    "'''7. Write a Python program to print each elements of a given set using for loop.\n",
    "    Data:\n",
    "        x = {1, 2, 3, 4, 5}\n",
    "    Expected Output:\n",
    "        1\n",
    "        2\n",
    "        3\n",
    "        4\n",
    "        5 '''\n",
    "\n",
    "x = {1, 2, 3, 4, 5}\n",
    "for item in x:\n",
    "    print(item)\n",
    "        "
   ]
  },
  {
   "cell_type": "code",
   "execution_count": 51,
   "metadata": {},
   "outputs": [
    {
     "name": "stdout",
     "output_type": "stream",
     "text": [
      "{'karthi'}\n"
     ]
    }
   ],
   "source": [
    "'''8. Write a Python program to print the intersection of two given sets. \n",
    "   Data:\n",
    "        x = {\"boss\", \"karthi\"}\n",
    "        y = {\"karthi\", \"siva\"}\n",
    "    Expected Output:\n",
    "        {'karthi'} '''\n",
    "\n",
    "x = {\"boss\", \"karthi\"}\n",
    "y = {\"karthi\", \"siva\"}\n",
    "result = x & y\n",
    "print(result)       "
   ]
  },
  {
   "cell_type": "code",
   "execution_count": 53,
   "metadata": {},
   "outputs": [
    {
     "name": "stdout",
     "output_type": "stream",
     "text": [
      "{'boss', 'siva', 'karthi'}\n"
     ]
    }
   ],
   "source": [
    "'''9. Write a Python program to print the union of two given sets. \n",
    "    Data:\n",
    "        x = {\"boss\", \"karthi\"}\n",
    "        y = {\"karthi\", \"siva\"}\n",
    "    Expected Output:\n",
    "        {'boss', 'siva', 'karthi'} '''\n",
    "x = {\"boss\", \"karthi\"}\n",
    "y = {\"karthi\", \"siva\"}\n",
    "result = x | y\n",
    "print(result)      "
   ]
  },
  {
   "cell_type": "code",
   "execution_count": 54,
   "metadata": {},
   "outputs": [
    {
     "name": "stdout",
     "output_type": "stream",
     "text": [
      "{'boss', 'siva'}\n"
     ]
    }
   ],
   "source": [
    "'''10. Write a Python program to print the symmetric difference between two given sets. \n",
    "    Data:\n",
    "        x = {\"boss\",\"karthi\"}\n",
    "        y = {\"karthi\",\"siva\"}\n",
    "    Expected Output:\n",
    "        {'boss', 'siva'} '''\n",
    "x = {\"boss\", \"karthi\"}\n",
    "y = {\"karthi\", \"siva\"}\n",
    "result = x ^ y\n",
    "print(result)\n"
   ]
  },
  {
   "cell_type": "code",
   "execution_count": 59,
   "metadata": {},
   "outputs": [
    {
     "name": "stdout",
     "output_type": "stream",
     "text": [
      "The set x has elements: {'Puppy', 'Kutta'}\n",
      "After clearing the set x: set()\n"
     ]
    }
   ],
   "source": [
    "'''11. Write a Python program to clear a given set.\n",
    "    Data:\n",
    "        x ={\"Kutta\", \"Puppy\"}\n",
    "    Expected Output:\n",
    "        The set x has elements : {'Puppy', 'Kutta'}\n",
    "        After clearing the set x : set() '''\n",
    "x = {\"Kutta\", \"Puppy\"}\n",
    "print(\"The set x has elements:\",x)\n",
    "x.clear()\n",
    "print(\"After clearing the set x:\", x)\n",
    "        \n",
    "        "
   ]
  },
  {
   "cell_type": "code",
   "execution_count": 60,
   "metadata": {},
   "outputs": [
    {
     "name": "stdout",
     "output_type": "stream",
     "text": [
      "87\n"
     ]
    }
   ],
   "source": [
    "'''12. Write a Python program to print the maximum value from a given set. \n",
    "    Data:\n",
    "        x = {23, 45, 12, 56, 87}\n",
    "    Expected Output:\n",
    "        87 '''\n",
    "x = {23, 45, 12, 56, 87}\n",
    "print(max(x))        "
   ]
  },
  {
   "cell_type": "code",
   "execution_count": 61,
   "metadata": {},
   "outputs": [
    {
     "name": "stdout",
     "output_type": "stream",
     "text": [
      "2\n"
     ]
    }
   ],
   "source": [
    "'''13. Write a Python program to print the minimum value from a given set. \n",
    "    Data:\n",
    "        x = {23, 56, 2, 3, 78, 6}\n",
    "    Expected Output:\n",
    "        2 '''\n",
    "x = {23, 56, 2, 3, 78, 6}\n",
    "print(min(x))       "
   ]
  },
  {
   "cell_type": "code",
   "execution_count": 65,
   "metadata": {},
   "outputs": [
    {
     "name": "stdout",
     "output_type": "stream",
     "text": [
      "{1, 2, 3}\n"
     ]
    }
   ],
   "source": [
    "'''14. Write a Python program to remove the intersection of a 2nd set from the 1st set using difference_update().\n",
    "    Data:\n",
    "        x = {1, 2, 3, 4, 5}\n",
    "        y = {4, 5, 6, 7, 8}\n",
    "    Expected Output:\n",
    "        {1, 2, 3} '''\n",
    "x = {1, 2, 3, 4, 5}\n",
    "y = {4, 5, 6, 7, 8}\n",
    "x.difference_update(y)\n",
    "print(x)\n",
    "      "
   ]
  },
  {
   "cell_type": "code",
   "execution_count": 68,
   "metadata": {},
   "outputs": [
    {
     "name": "stdout",
     "output_type": "stream",
     "text": [
      "{'apple'}\n"
     ]
    }
   ],
   "source": [
    "'''15. Write a Python program to update the 1st set with the intersection elements from another set using intersection_update().\n",
    "    Data:\n",
    "        x = {\"apple\", \"banana\", \"cherry\"}\n",
    "        y = {\"google\", \"microsoft\", \"apple\"}\n",
    "    Expected Output:\n",
    "        {\"apple\"} '''\n",
    "x = {\"apple\", \"banana\", \"cherry\"}\n",
    "y = {\"google\", \"microsoft\", \"apple\"}\n",
    "x.intersection_update(y)\n",
    "print(x)          "
   ]
  },
  {
   "cell_type": "code",
   "execution_count": 69,
   "metadata": {},
   "outputs": [
    {
     "name": "stdout",
     "output_type": "stream",
     "text": [
      "[(1, 'c'), (2, 'b'), (3, 'a')]\n"
     ]
    }
   ],
   "source": [
    "'''16. Write a Python program to zip two sets into a list.\n",
    "    Data:\n",
    "        {1, 2, 3},{\"a\", \"b\", \"c\"}\n",
    "    Expected Output:\n",
    "        [(1, 'c'),(2, 'b'),(3, 'a')]'''\n",
    "x = {1, 2, 3}\n",
    "y = {\"a\", \"b\", \"c\"}\n",
    "result = list(zip(sorted(x), sorted(y, reverse=True)))\n",
    "print(result)\n"
   ]
  },
  {
   "cell_type": "code",
   "execution_count": 72,
   "metadata": {},
   "outputs": [
    {
     "name": "stdout",
     "output_type": "stream",
     "text": [
      "{1, 2, 3, 4, 5}\n"
     ]
    }
   ],
   "source": [
    "'''17. Write a Python program to convert a list into a set.\n",
    "    Data:\n",
    "        x = [5,3,4,1,2]\n",
    "    Expected Output:\n",
    "        {1,2,3,4,5} '''\n",
    "x = [5,3,4,1,2]\n",
    "y = set(x)\n",
    "print(y)\n",
    "        \n",
    "        "
   ]
  },
  {
   "cell_type": "code",
   "execution_count": 84,
   "metadata": {},
   "outputs": [
    {
     "name": "stdout",
     "output_type": "stream",
     "text": [
      "False\n"
     ]
    }
   ],
   "source": [
    "'''18. Write a python program to check if a set is a subset of another set using comparison operator. Return True if yes, False if not.\n",
    "    Data:\n",
    "        x = {\"1\", \"2\"}\n",
    "        y = {\"1\", \"2\", \"3\"}\n",
    "    Expected Output:\n",
    "        True\n",
    "        False    '''\n",
    "x = {\"1\", \"2\"}\n",
    "y = {\"1\", \"2\", \"3\"}\n",
    "if x >= y:\n",
    "    print(True)\n",
    "else:\n",
    "    print(False)        "
   ]
  },
  {
   "cell_type": "code",
   "execution_count": 85,
   "metadata": {},
   "outputs": [
    {
     "name": "stdout",
     "output_type": "stream",
     "text": [
      "True\n"
     ]
    }
   ],
   "source": [
    "'''19. Write a python program to check if a set is a subset of another set using issubset(). Return True if yes, False if not.\n",
    "    Data:\n",
    "        x = {4, 5}\n",
    "        y = {1, 2, 3, 4, 5}\n",
    "    Expected Output:\n",
    "        True\n",
    "        False '''\n",
    "x = {4, 5}\n",
    "y = {1, 2, 3, 4, 5}\n",
    "result = x.issubset(y)\n",
    "print(result)\n",
    "       "
   ]
  },
  {
   "cell_type": "code",
   "execution_count": 88,
   "metadata": {},
   "outputs": [
    {
     "name": "stdout",
     "output_type": "stream",
     "text": [
      "True\n",
      "False\n"
     ]
    }
   ],
   "source": [
    "'''20. Write a Python program to check if two given sets are disjoint.\n",
    "    Data:\n",
    "        a = {1,2,3}\n",
    "        b = {4,5,6}\n",
    "        c = {3}\n",
    "    Expected Output:\n",
    "        True\n",
    "        False '''\n",
    "a = {1,2,3}\n",
    "b = {4,5,6}\n",
    "c = {3}\n",
    "print(a.isdisjoint(b))\n",
    "print(c.isdisjoint(a))\n",
    "        \n",
    "        "
   ]
  },
  {
   "cell_type": "code",
   "execution_count": null,
   "metadata": {},
   "outputs": [],
   "source": []
  }
 ],
 "metadata": {
  "kernelspec": {
   "display_name": "Python [conda env:base] *",
   "language": "python",
   "name": "conda-base-py"
  },
  "language_info": {
   "codemirror_mode": {
    "name": "ipython",
    "version": 3
   },
   "file_extension": ".py",
   "mimetype": "text/x-python",
   "name": "python",
   "nbconvert_exporter": "python",
   "pygments_lexer": "ipython3",
   "version": "3.13.5"
  }
 },
 "nbformat": 4,
 "nbformat_minor": 4
}
