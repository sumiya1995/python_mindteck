{
 "cells": [
  {
   "cell_type": "code",
   "execution_count": 49,
   "id": "72fa6064-33c9-46fb-8b29-fc91ec2ca7b4",
   "metadata": {},
   "outputs": [
    {
     "name": "stdout",
     "output_type": "stream",
     "text": [
      "30\n"
     ]
    }
   ],
   "source": [
    "# write a program to add two  integers 10 , 20\n",
    "a=10\n",
    "b=20\n",
    "print(a+b)"
   ]
  },
  {
   "cell_type": "code",
   "execution_count": 2,
   "id": "8f2c2f59-ccce-4d65-a157-3fadc1792420",
   "metadata": {},
   "outputs": [
    {
     "name": "stdout",
     "output_type": "stream",
     "text": [
      "<class 'int'>\n",
      "<class 'float'>\n",
      "<class 'str'>\n"
     ]
    }
   ],
   "source": [
    "# Write a program to find the type of a, b ,c where a=2, b=2.8,c=\"John\"\n",
    "a=2\n",
    "b=2.8\n",
    "c=\"John\"\n",
    "print(type(a))\n",
    "print(type(b))\n",
    "print(type(c))\n"
   ]
  },
  {
   "cell_type": "code",
   "execution_count": 7,
   "id": "b55935d8-d564-441a-8346-e4f872fbfa16",
   "metadata": {},
   "outputs": [
    {
     "name": "stdout",
     "output_type": "stream",
     "text": [
      "4 2\n"
     ]
    }
   ],
   "source": [
    "# Write a program to swap the two numbers , where a=2 ,b=4 the program should print a= 4 ,b=2\n",
    "a=2\n",
    "b=4\n",
    "a,b=b,a\n",
    "print(a,b)"
   ]
  },
  {
   "cell_type": "code",
   "execution_count": 50,
   "id": "4d7e40c6-c31b-418d-a97f-e6d945d42d58",
   "metadata": {},
   "outputs": [
    {
     "name": "stdout",
     "output_type": "stream",
     "text": [
      "4 2\n"
     ]
    }
   ],
   "source": [
    "# Write a program to swap the two numbers , using 3 variables\n",
    "a=2\n",
    "b=4\n",
    "c=a\n",
    "a=b\n",
    "b=c\n",
    "print(a,b)"
   ]
  },
  {
   "cell_type": "code",
   "execution_count": 13,
   "id": "2aac6a7b-ef3c-4b54-9a51-66189af5bc9e",
   "metadata": {},
   "outputs": [
    {
     "name": "stdout",
     "output_type": "stream",
     "text": [
      "Numerator= 10\n",
      "Denominator= 5\n",
      "quotient= 2.0\n",
      "remainder= 0\n"
     ]
    }
   ],
   "source": [
    "# Write a program to print the numerator and denominator , quotient and remainder\n",
    "numerator=10\n",
    "denominator=5\n",
    "quotient=numerator / denominator\n",
    "remainder=numerator % denominator\n",
    "print(\"Numerator=\",numerator)\n",
    "print(\"Denominator=\",denominator)\n",
    "print(\"quotient=\",quotient)\n",
    "print(\"remainder=\",remainder)"
   ]
  },
  {
   "cell_type": "code",
   "execution_count": 19,
   "id": "610ba03d-00a7-4f20-b40b-2edc5fc588a5",
   "metadata": {},
   "outputs": [
    {
     "name": "stdout",
     "output_type": "stream",
     "text": [
      "10000.0\n"
     ]
    }
   ],
   "source": [
    "# Write a program to calculate simple interst , si =p*n*r/100\n",
    "p=100000\n",
    "n=2\n",
    "r=5\n",
    "si =p*n*r/100\n",
    "print(si)\n"
   ]
  },
  {
   "cell_type": "code",
   "execution_count": 21,
   "id": "69054606-eae3-43d6-8d28-262ae9d4957b",
   "metadata": {},
   "outputs": [
    {
     "name": "stdout",
     "output_type": "stream",
     "text": [
      "Radius= 8\n",
      "Area of circle= 200.96\n",
      "Circumference of circle= 50.24\n"
     ]
    }
   ],
   "source": [
    "# Write a program to calculate the area and circumference of a circle ,area=3.14*radius*radius , circumference=2*3.14*r\n",
    "radius=8\n",
    "area=3.14*radius*radius\n",
    "circumference=2*3.14*radius\n",
    "print(\"Radius=\", radius)\n",
    "print(\"Area of circle=\", area)\n",
    "print(\"Circumference of circle=\", circumference)"
   ]
  },
  {
   "cell_type": "code",
   "execution_count": 23,
   "id": "6a04aa8f-1c8c-4168-8bfd-0933858982e9",
   "metadata": {},
   "outputs": [
    {
     "name": "stdout",
     "output_type": "stream",
     "text": [
      "Celcius= 2.5\n",
      "Fariienhiet= 36.5\n"
     ]
    }
   ],
   "source": [
    "# Write a program to convert Celcius to Fariehiet , fariienhiet=1.8*celcius+32\n",
    "celcius=2.5\n",
    "fariienhiet=1.8*celcius+32\n",
    "print(\"Celcius=\",celcius)\n",
    "print(\"Fariienhiet=\",fariienhiet)"
   ]
  },
  {
   "cell_type": "code",
   "execution_count": 35,
   "id": "2999c740-3813-45b5-a0ff-82435f69b800",
   "metadata": {},
   "outputs": [
    {
     "name": "stdout",
     "output_type": "stream",
     "text": [
      "48 is even\n"
     ]
    }
   ],
   "source": [
    "# Write a program to find whether given number is odd or even\n",
    "a=48\n",
    "if a % 2 == 0:\n",
    "    print(a, \"is even\")\n",
    "else:\n",
    "    print(a, \"is odd\")\n"
   ]
  },
  {
   "cell_type": "code",
   "execution_count": 37,
   "id": "dee8b3ee-1ec5-4dac-b478-30ec4e279e0a",
   "metadata": {},
   "outputs": [
    {
     "name": "stdout",
     "output_type": "stream",
     "text": [
      "Not eligible to vote\n"
     ]
    }
   ],
   "source": [
    "# Write a program to check whether the person can vote or not\n",
    "age = 10\n",
    "if age >= 18:\n",
    "    print(\"Eligibility to vote\")\n",
    "else:\n",
    "    print(\"Not eligible to vote\")"
   ]
  },
  {
   "cell_type": "code",
   "execution_count": 46,
   "id": "6e3b3b29-9861-4807-8e89-7cd9dcfc856c",
   "metadata": {},
   "outputs": [
    {
     "name": "stdout",
     "output_type": "stream",
     "text": [
      "2004 is a leap year\n"
     ]
    }
   ],
   "source": [
    "# Write a program to find whether the given year is leap year or not ?\n",
    "year = 2004\n",
    "\n",
    "if (year % 4 ==0):\n",
    "    if (year % 100 != 0) or (year % 400 == 0):\n",
    "        print(year , \"is a leap year\")\n",
    "    else:\n",
    "        print(year, \"is not a leap year\")\n",
    "else:\n",
    "    print(year, \"is not a leap year\")\n",
    "    \n"
   ]
  },
  {
   "cell_type": "code",
   "execution_count": 48,
   "id": "4cd6e9ea-88bc-43d3-8095-bf7933893e6e",
   "metadata": {},
   "outputs": [
    {
     "name": "stdout",
     "output_type": "stream",
     "text": [
      "Biggest number is 5\n"
     ]
    }
   ],
   "source": [
    "# Write a program to find the bigeest of three numbers\n",
    "a=2\n",
    "b=3\n",
    "c=5\n",
    "if a >= b and a >= c:\n",
    "    biggest = a\n",
    "if b >= a and b >= c:\n",
    "    biggest = b\n",
    "else:\n",
    "    biggest = c\n",
    "print(\"Biggest number is\", biggest)"
   ]
  },
  {
   "cell_type": "code",
   "execution_count": null,
   "id": "19bdd156-d56e-4842-b443-75a04e2054a2",
   "metadata": {},
   "outputs": [],
   "source": []
  }
 ],
 "metadata": {
  "kernelspec": {
   "display_name": "Python 3 (ipykernel)",
   "language": "python",
   "name": "python3"
  },
  "language_info": {
   "codemirror_mode": {
    "name": "ipython",
    "version": 3
   },
   "file_extension": ".py",
   "mimetype": "text/x-python",
   "name": "python",
   "nbconvert_exporter": "python",
   "pygments_lexer": "ipython3",
   "version": "3.13.5"
  }
 },
 "nbformat": 4,
 "nbformat_minor": 5
}
